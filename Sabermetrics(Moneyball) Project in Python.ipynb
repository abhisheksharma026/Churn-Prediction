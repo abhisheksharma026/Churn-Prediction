{
 "cells": [
  {
   "cell_type": "markdown",
   "metadata": {},
   "source": [
    "# The Economics of Moneyball : The Moneyball thesis is simple: Using statistical analysis, small-market teams can compete by buying assets that are undervalued by other teams and selling ones that are overvalued by other teams."
   ]
  },
  {
   "cell_type": "code",
   "execution_count": null,
   "metadata": {},
   "outputs": [],
   "source": [
    "import pandas as pd\n",
    "import numpy as np\n",
    "import matplotlib.pyplot as plt\n",
    "import seaborn as sns\n",
    "%matplotlib inline"
   ]
  },
  {
   "cell_type": "code",
   "execution_count": null,
   "metadata": {},
   "outputs": [],
   "source": [
    "batting = pd.read_csv('Batting.csv')"
   ]
  },
  {
   "cell_type": "code",
   "execution_count": null,
   "metadata": {},
   "outputs": [],
   "source": [
    "batting.head()"
   ]
  },
  {
   "cell_type": "code",
   "execution_count": null,
   "metadata": {},
   "outputs": [],
   "source": [
    "batting.columns"
   ]
  },
  {
   "cell_type": "code",
   "execution_count": null,
   "metadata": {},
   "outputs": [],
   "source": [
    "batting.info()"
   ]
  },
  {
   "cell_type": "code",
   "execution_count": null,
   "metadata": {},
   "outputs": [],
   "source": [
    "# Performing feature engineering"
   ]
  },
  {
   "cell_type": "code",
   "execution_count": null,
   "metadata": {},
   "outputs": [],
   "source": [
    "# Batting average being a percentage reflecting how often a batter gets on base\n",
    "batting['BA'] = batting['H'] / batting['AB']"
   ]
  },
  {
   "cell_type": "code",
   "execution_count": null,
   "metadata": {},
   "outputs": [],
   "source": [
    "# On Base Percentage\n",
    "# Generally measuring how frequently a batter reaches base\n",
    "# It records the ratio of the batter's times-on-base (TOB) (the sum of hits, walks, \n",
    "# and times hit by pitch) to their number of plate appearances# On Base Percentage\n",
    "\n",
    "batting['OBP'] = (batting['H'] + batting['BB'] + batting['HBP'])/(batting['AB'] + batting['BB'] + batting['HBP'] + batting['SF'])\n"
   ]
  },
  {
   "cell_type": "code",
   "execution_count": null,
   "metadata": {},
   "outputs": [],
   "source": [
    "# 1B = H-2B-3B-HR\n",
    "# Creating X1B (Singles)\n",
    "batting['1B'] = batting['H'] - batting['2B'] - batting['3B'] - batting['HR']"
   ]
  },
  {
   "cell_type": "code",
   "execution_count": null,
   "metadata": {},
   "outputs": [],
   "source": [
    "# Creating Slugging Average (SLG)\n",
    "\n",
    "# slugging percentage (SLG) is a measure of the batting productivity of a hitter. \n",
    "# It is calculated as total bases divided by at bats.\n",
    "# Unlike batting average, slugging percentage gives more weight to extra-base hits with doubles, \n",
    "# triples, and home runs, relative to singles.\n",
    "\n",
    "\n",
    "batting['SLG'] = ((1 * batting['1B']) + (2 * batting['2B']) + (3 * batting['3B']) + (4 * batting['HR']) ) / batting['AB']"
   ]
  },
  {
   "cell_type": "code",
   "execution_count": null,
   "metadata": {},
   "outputs": [],
   "source": [
    "sal = pd.read_csv('Salaries.csv')"
   ]
  },
  {
   "cell_type": "code",
   "execution_count": null,
   "metadata": {},
   "outputs": [],
   "source": [
    "sal.head()"
   ]
  },
  {
   "cell_type": "code",
   "execution_count": null,
   "metadata": {},
   "outputs": [],
   "source": [
    "batting = batting[batting['yearID'] >= 1985] # since I have the salary data starting from 1985"
   ]
  },
  {
   "cell_type": "code",
   "execution_count": null,
   "metadata": {},
   "outputs": [],
   "source": [
    "combo = batting.merge(sal, on=('playerID','yearID'))"
   ]
  },
  {
   "cell_type": "code",
   "execution_count": null,
   "metadata": {},
   "outputs": [],
   "source": [
    "combo.columns"
   ]
  },
  {
   "cell_type": "code",
   "execution_count": null,
   "metadata": {},
   "outputs": [],
   "source": [
    "# combo[combo['playerID']=='giambja01']\n",
    "lost_players = combo[combo['playerID'].isin(['giambja01','damonjo01','saenzol01'])]\n",
    "\n",
    "# Lost players: First baseman 2000 AL MVP Jason Giambi (giambja01) to the New York Yankees, \n",
    "# outfielder Johnny Damon (damonjo01) to the Boston Red Sox and \n",
    "# infielder Rainer Gustavo \"Ray\" Olmedo ('saenzol01').\n",
    "\n",
    "lost_players.columns"
   ]
  },
  {
   "cell_type": "code",
   "execution_count": null,
   "metadata": {},
   "outputs": [],
   "source": [
    "type(lost_players)"
   ]
  },
  {
   "cell_type": "code",
   "execution_count": null,
   "metadata": {},
   "outputs": [],
   "source": [
    "grouped = lost_players.groupby(['playerID'],axis=0)\n",
    "grouped['salary'].agg([np.mean])"
   ]
  },
  {
   "cell_type": "code",
   "execution_count": null,
   "metadata": {},
   "outputs": [],
   "source": [
    "lost_players = lost_players[lost_players['yearID'] == 2001] \n",
    "# extracting from the year they lost the key players"
   ]
  },
  {
   "cell_type": "code",
   "execution_count": null,
   "metadata": {},
   "outputs": [],
   "source": [
    "lost_players = lost_players[['playerID','H','2B','3B','HR','OBP','SLG','BA','AB']]"
   ]
  },
  {
   "cell_type": "code",
   "execution_count": null,
   "metadata": {},
   "outputs": [],
   "source": [
    "avail_players = combo[combo['yearID']== 2001] # to match the data with the available ones"
   ]
  },
  {
   "cell_type": "code",
   "execution_count": null,
   "metadata": {},
   "outputs": [],
   "source": [
    "avail_players.columns"
   ]
  },
  {
   "cell_type": "code",
   "execution_count": null,
   "metadata": {},
   "outputs": [],
   "source": [
    "plt.scatter(avail_players['OBP'],avail_players['salary'],c='r')"
   ]
  },
  {
   "cell_type": "code",
   "execution_count": null,
   "metadata": {},
   "outputs": [],
   "source": [
    "avail_players = avail_players[(avail_players['salary']<6500000) & (avail_players['OBP']> 0)]\n",
    "\n",
    "# The total AB of the lost players is about 1450, \n",
    "# meaning should probably cut off avail.players at 480 AB.\n",
    "# eyeballing some particular value for the lost player salary considering the budget\n",
    "\n",
    "# removing the outliers for OBP"
   ]
  },
  {
   "cell_type": "code",
   "execution_count": null,
   "metadata": {},
   "outputs": [],
   "source": [
    "plt.scatter(avail_players['OBP'],avail_players['salary'],c='r')"
   ]
  },
  {
   "cell_type": "code",
   "execution_count": null,
   "metadata": {},
   "outputs": [],
   "source": [
    "avail_players = avail_players[avail_players['AB'] >= 480]"
   ]
  },
  {
   "cell_type": "code",
   "execution_count": null,
   "metadata": {},
   "outputs": [],
   "source": [
    "possible_players = avail_players.sort_values(by=['OBP'],ascending=False)"
   ]
  },
  {
   "cell_type": "code",
   "execution_count": null,
   "metadata": {},
   "outputs": [],
   "source": [
    "possible_players = possible_players[['playerID','OBP','AB','salary']]"
   ]
  },
  {
   "cell_type": "code",
   "execution_count": null,
   "metadata": {},
   "outputs": [],
   "source": [
    "possible_players.head(10)"
   ]
  },
  {
   "cell_type": "code",
   "execution_count": null,
   "metadata": {},
   "outputs": [],
   "source": [
    "# berkmla01, gonzalu01, pujolal01 being my choice"
   ]
  }
 ],
 "metadata": {
  "kernelspec": {
   "display_name": "Python 3",
   "language": "python",
   "name": "python3"
  },
  "language_info": {
   "codemirror_mode": {
    "name": "ipython",
    "version": 3
   },
   "file_extension": ".py",
   "mimetype": "text/x-python",
   "name": "python",
   "nbconvert_exporter": "python",
   "pygments_lexer": "ipython3",
   "version": "3.5.4"
  }
 },
 "nbformat": 4,
 "nbformat_minor": 2
}
