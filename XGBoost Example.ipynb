{
 "cells": [
  {
   "cell_type": "code",
   "execution_count": 3,
   "metadata": {},
   "outputs": [],
   "source": [
    "import pandas as pd\n",
    "import xgboost as xgb\n",
    "from sklearn.preprocessing import LabelEncoder\n",
    "import numpy as np\n",
    "\n",
    "# Load the data\n",
    "train_df = pd.read_csv('titanic_train.csv')\n",
    "test_df = pd.read_csv('titanic_test.csv')\n",
    "\n",
    "X = ['Pclass','Sex','Age','Fare','Parch']\n",
    "\n",
    "# Join the features from train and test together before imputing missing values,\n",
    "# in case their distribution is slightly different\n",
    "combo_X = train_df[X].append(test_df[X])\n",
    "\n",
    "# Fare column is just one value empty so we will fill it with median value\n",
    "combo_X['Fare'] = combo_X['Fare'].fillna(combo_X['Fare'].median())"
   ]
  },
  {
   "cell_type": "code",
   "execution_count": null,
   "metadata": {},
   "outputs": [],
   "source": [
    "# Creating probabilty distribution for ages from the existing column values\n",
    "ages_probabilities = combo_X['Age'].value_counts().to_frame()\n",
    "ages_probabilities['index1'] = ages_probabilities.index\n",
    "ages_probabilities = ages_probabilities.rename(columns={'Age': 'Count', 'index1': 'Age'})\n",
    "ages_probabilities = ages_probabilities.reindex_axis(['Age','Count'], axis=1)\n",
    "ages_probabilities = ages_probabilities.reset_index()\n",
    "ages_probabilities = ages_probabilities.drop([\"index\"],axis=1)\n",
    "ages_probabilities['Probability'] = ages_probabilities['Count'] / big_X['Age'].value_counts().sum()\n",
    "\n",
    "input_ages_list = ages_probabilities['Age'].values.tolist()\n",
    "props_ages_list = ages_probabilities['Probability'].values.tolist()\n",
    "newAges = np.random.choice(input_ages_list, big_X['Age'].isnull().sum(), props_ages_list)"
   ]
  },
  {
   "cell_type": "code",
   "execution_count": 4,
   "metadata": {},
   "outputs": [],
   "source": [
    "# fill Ages null values with this distribution\n",
    "AgeNulls = combo_X[pd.isnull(combo_X['Age'])]\n",
    "for i, ni in enumerate(AgeNulls.index[:len(newAges)]):\n",
    "    combo_X['Age'].loc[ni] = newAges[i]\n",
    "\n",
    "combo_X_imputed = combo_X\n",
    "# XGBoost doesn't (yet) handle categorical features automatically, so we need to change\n",
    "# them to columns of integer values.\n",
    "# See http://scikit-learn.org/stable/modules/preprocessing.html#preprocessing for more\n",
    "# details and options\n",
    "le = LabelEncoder()\n",
    "combo_X_imputed['Sex'] = le.fit_transform(combo_X_imputed['Sex'])"
   ]
  },
  {
   "cell_type": "code",
   "execution_count": null,
   "metadata": {},
   "outputs": [],
   "source": [
    "# Prepare the inputs for the model\n",
    "train_X = combo_X_imputed[0:train_df.shape[0]].as_matrix()\n",
    "test_X = combo_X_imputed[train_df.shape[0]::].as_matrix()\n",
    "train_y = train_df['Survived']\n",
    "\n",
    "gbm = xgb.XGBClassifier(max_depth=3, n_estimators=300, learning_rate=0.05).fit(train_X, train_y)\n",
    "predictions = gbm.predict(test_X)\n",
    "\n",
    "submission = pd.DataFrame({ 'PassengerId': test_df['PassengerId'],\n",
    "                            'Survived': predictions })\n",
    "print(submission)\n",
    "#submission.to_csv(\"submission.csv\", index=False)"
   ]
  }
 ],
 "metadata": {
  "kernelspec": {
   "display_name": "Python 3",
   "language": "python",
   "name": "python3"
  },
  "language_info": {
   "codemirror_mode": {
    "name": "ipython",
    "version": 3
   },
   "file_extension": ".py",
   "mimetype": "text/x-python",
   "name": "python",
   "nbconvert_exporter": "python",
   "pygments_lexer": "ipython3",
   "version": "3.6.4"
  }
 },
 "nbformat": 4,
 "nbformat_minor": 2
}
