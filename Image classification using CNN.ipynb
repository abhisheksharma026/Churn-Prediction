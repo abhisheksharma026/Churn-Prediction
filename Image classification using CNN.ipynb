{
 "cells": [
  {
   "cell_type": "code",
   "execution_count": 1,
   "metadata": {},
   "outputs": [
    {
     "name": "stderr",
     "output_type": "stream",
     "text": [
      "Using TensorFlow backend.\n"
     ]
    }
   ],
   "source": [
    "# Importing the Keras libraries and packages\n",
    "from keras.models import Sequential\n",
    "from keras.layers import Conv2D\n",
    "from keras.layers import MaxPooling2D\n",
    "from keras.layers import Flatten\n",
    "from keras.layers import Dense\n"
   ]
  },
  {
   "cell_type": "code",
   "execution_count": 2,
   "metadata": {},
   "outputs": [],
   "source": [
    "# Initialising the CNN\n",
    "classifier = Sequential()"
   ]
  },
  {
   "cell_type": "code",
   "execution_count": 3,
   "metadata": {},
   "outputs": [],
   "source": [
    "# Step 1 - Convolution\n",
    "classifier.add(Conv2D(32, (3, 3), input_shape = (64, 64, 3), activation = 'relu'))\n",
    "\n",
    "# Step 2 - Pooling\n",
    "classifier.add(MaxPooling2D(pool_size = (2, 2)))"
   ]
  },
  {
   "cell_type": "code",
   "execution_count": 4,
   "metadata": {},
   "outputs": [],
   "source": [
    "# Adding a second convolutional layer\n",
    "\n",
    "classifier.add(Conv2D(32, (3, 3), activation = 'relu'))\n",
    "classifier.add(MaxPooling2D(pool_size = (2, 2)))"
   ]
  },
  {
   "cell_type": "code",
   "execution_count": 5,
   "metadata": {},
   "outputs": [],
   "source": [
    "# Step 3 - Flattening\n",
    "classifier.add(Flatten())"
   ]
  },
  {
   "cell_type": "code",
   "execution_count": 6,
   "metadata": {},
   "outputs": [],
   "source": [
    "# Step 4 - Full connection\n",
    "classifier.add(Dense(units = 128, activation = 'relu'))\n",
    "classifier.add(Dense(units = 1, activation = 'sigmoid'))\n"
   ]
  },
  {
   "cell_type": "code",
   "execution_count": 7,
   "metadata": {},
   "outputs": [],
   "source": [
    "# Compiling the CNN\n",
    "classifier.compile(optimizer = 'adam', loss = 'binary_crossentropy', metrics = ['accuracy'])"
   ]
  },
  {
   "cell_type": "code",
   "execution_count": 8,
   "metadata": {},
   "outputs": [],
   "source": [
    "from keras.preprocessing.image import ImageDataGenerator\n",
    "\n",
    "train_datagen = ImageDataGenerator(rescale = 1./255,\n",
    "                                   shear_range = 0.2,\n",
    "                                   zoom_range = 0.2,\n",
    "                                   horizontal_flip = True)\n",
    "\n",
    "test_datagen = ImageDataGenerator(rescale = 1./255)"
   ]
  },
  {
   "cell_type": "code",
   "execution_count": 9,
   "metadata": {},
   "outputs": [
    {
     "name": "stdout",
     "output_type": "stream",
     "text": [
      "Found 8000 images belonging to 2 classes.\n",
      "Found 2000 images belonging to 2 classes.\n"
     ]
    }
   ],
   "source": [
    "training_set = train_datagen.flow_from_directory(r'E:\\dataset\\training_set',\n",
    "                                                 target_size = (64, 64),\n",
    "                                                 batch_size = 32,\n",
    "                                                 class_mode = 'binary')\n",
    "\n",
    "test_set = test_datagen.flow_from_directory(r'E:\\dataset\\test_set',\n",
    "                                            target_size = (64, 64),\n",
    "                                            batch_size = 32,\n",
    "                                            class_mode = 'binary')"
   ]
  },
  {
   "cell_type": "code",
   "execution_count": 10,
   "metadata": {},
   "outputs": [
    {
     "name": "stdout",
     "output_type": "stream",
     "text": [
      "Epoch 1/20\n",
      "8000/8000 [==============================] - 2319s 290ms/step - loss: 0.3638 - acc: 0.8298 - val_loss: 0.6929 - val_acc: 0.7840\n",
      "Epoch 2/20\n",
      "8000/8000 [==============================] - 1831s 229ms/step - loss: 0.1105 - acc: 0.9578 - val_loss: 0.9140 - val_acc: 0.8045\n",
      "Epoch 3/20\n",
      "8000/8000 [==============================] - 1828s 228ms/step - loss: 0.0558 - acc: 0.9800 - val_loss: 1.0293 - val_acc: 0.8045\n",
      "Epoch 4/20\n",
      "8000/8000 [==============================] - 3182s 398ms/step - loss: 0.0398 - acc: 0.9861 - val_loss: 1.1207 - val_acc: 0.8020\n",
      "Epoch 5/20\n",
      "8000/8000 [==============================] - 3756s 470ms/step - loss: 0.0325 - acc: 0.9888 - val_loss: 1.2798 - val_acc: 0.8075\n",
      "Epoch 6/20\n",
      "8000/8000 [==============================] - 1972s 246ms/step - loss: 0.0275 - acc: 0.9909 - val_loss: 1.3124 - val_acc: 0.8000\n",
      "Epoch 7/20\n",
      "8000/8000 [==============================] - 1834s 229ms/step - loss: 0.0233 - acc: 0.9922 - val_loss: 1.3478 - val_acc: 0.8060\n",
      "Epoch 8/20\n",
      "8000/8000 [==============================] - 1836s 229ms/step - loss: 0.0196 - acc: 0.9935 - val_loss: 1.5124 - val_acc: 0.8060\n",
      "Epoch 9/20\n",
      "8000/8000 [==============================] - 1836s 229ms/step - loss: 0.0182 - acc: 0.9941 - val_loss: 1.4528 - val_acc: 0.7965\n",
      "Epoch 10/20\n",
      "8000/8000 [==============================] - 1836s 230ms/step - loss: 0.0170 - acc: 0.9945 - val_loss: 1.4656 - val_acc: 0.8025\n",
      "Epoch 11/20\n",
      "8000/8000 [==============================] - 1834s 229ms/step - loss: 0.0149 - acc: 0.9951 - val_loss: 1.6046 - val_acc: 0.7960\n",
      "Epoch 12/20\n",
      "8000/8000 [==============================] - 1850s 231ms/step - loss: 0.0136 - acc: 0.9957 - val_loss: 1.5291 - val_acc: 0.8085\n",
      "Epoch 13/20\n",
      "8000/8000 [==============================] - 1837s 230ms/step - loss: 0.0122 - acc: 0.9961 - val_loss: 1.6229 - val_acc: 0.8000\n",
      "Epoch 14/20\n",
      "8000/8000 [==============================] - 1837s 230ms/step - loss: 0.0122 - acc: 0.9961 - val_loss: 1.6537 - val_acc: 0.8000\n",
      "Epoch 15/20\n",
      "8000/8000 [==============================] - 1834s 229ms/step - loss: 0.0113 - acc: 0.9965 - val_loss: 1.6027 - val_acc: 0.8045\n",
      "Epoch 16/20\n",
      "8000/8000 [==============================] - 1835s 229ms/step - loss: 0.0108 - acc: 0.9966 - val_loss: 1.6271 - val_acc: 0.8050\n",
      "Epoch 17/20\n",
      "8000/8000 [==============================] - 1837s 230ms/step - loss: 0.0111 - acc: 0.9966 - val_loss: 1.8004 - val_acc: 0.7940\n",
      "Epoch 18/20\n",
      "8000/8000 [==============================] - 1847s 231ms/step - loss: 0.0089 - acc: 0.9971 - val_loss: 1.5976 - val_acc: 0.7985\n",
      "Epoch 19/20\n",
      "8000/8000 [==============================] - 1837s 230ms/step - loss: 0.0094 - acc: 0.9972 - val_loss: 1.7067 - val_acc: 0.7995\n",
      "Epoch 20/20\n",
      "8000/8000 [==============================] - 2291s 286ms/step - loss: 0.0091 - acc: 0.9971 - val_loss: 1.7221 - val_acc: 0.7870\n"
     ]
    },
    {
     "data": {
      "text/plain": [
       "<keras.callbacks.History at 0x1f8b1692710>"
      ]
     },
     "execution_count": 10,
     "metadata": {},
     "output_type": "execute_result"
    }
   ],
   "source": [
    "classifier.fit_generator(training_set,\n",
    "                         steps_per_epoch = 8000,\n",
    "                         epochs = 20,\n",
    "                         validation_data = test_set,\n",
    "                         validation_steps = 2000)"
   ]
  }
 ],
 "metadata": {
  "kernelspec": {
   "display_name": "Python 3",
   "language": "python",
   "name": "python3"
  },
  "language_info": {
   "codemirror_mode": {
    "name": "ipython",
    "version": 3
   },
   "file_extension": ".py",
   "mimetype": "text/x-python",
   "name": "python",
   "nbconvert_exporter": "python",
   "pygments_lexer": "ipython3",
   "version": "3.6.4"
  }
 },
 "nbformat": 4,
 "nbformat_minor": 2
}
